{
  "nbformat": 4,
  "nbformat_minor": 0,
  "metadata": {
    "colab": {
      "provenance": [],
      "collapsed_sections": [
        "S3acCxe7V68I",
        "TX8nHPCPFebO",
        "zMDlE0-zFkXV",
        "vNJfQns0XCB6"
      ],
      "include_colab_link": true
    },
    "kernelspec": {
      "name": "python3",
      "display_name": "Python 3"
    },
    "language_info": {
      "name": "python"
    }
  },
  "cells": [
    {
      "cell_type": "markdown",
      "metadata": {
        "id": "view-in-github",
        "colab_type": "text"
      },
      "source": [
        "<a href=\"https://colab.research.google.com/github/saitarun18/StatisticsForCS/blob/main/CaseStudyStats.ipynb\" target=\"_parent\"><img src=\"https://colab.research.google.com/assets/colab-badge.svg\" alt=\"Open In Colab\"/></a>"
      ]
    },
    {
      "cell_type": "markdown",
      "source": [
        "# Case Study, Group 10\n"
      ],
      "metadata": {
        "id": "bNemea8SS0M9"
      }
    },
    {
      "cell_type": "markdown",
      "source": [
        "Importing our dataset: Performance enhancers"
      ],
      "metadata": {
        "id": "iQ671gGZS7B5"
      }
    },
    {
      "cell_type": "code",
      "execution_count": null,
      "metadata": {
        "id": "ZF9dSFJS-fmB"
      },
      "outputs": [],
      "source": [
        "import scipy.stats\n",
        "import pandas as pd\n",
        "import numpy as np\n",
        "import math\n",
        "import statistics"
      ]
    },
    {
      "cell_type": "code",
      "source": [
        "df = pd.read_excel('/content/CaseStudyStats.xlsx')\n",
        "print(df)"
      ],
      "metadata": {
        "colab": {
          "base_uri": "https://localhost:8080/"
        },
        "id": "y1eLq17ZHHni",
        "outputId": "d8059d38-7eac-4866-bccd-cf3f6ef7a1f3"
      },
      "execution_count": null,
      "outputs": [
        {
          "output_type": "stream",
          "name": "stdout",
          "text": [
            "    Sr. No.  Sports Gender Marital Status  Weight before  Weight after\n",
            "0         1       6      M         Single             62            60\n",
            "1         2       6      F        Married             78            80\n",
            "2         3       8      F        Married             64            68\n",
            "3         4      11      M         Single             73            76\n",
            "4         5      11      M        Married             75            67\n",
            "..      ...     ...    ...            ...            ...           ...\n",
            "95       96       5      F        Married             65            61\n",
            "96       97       8      F        Married             64            69\n",
            "97       98       8      M         Single             73            76\n",
            "98       99      11      M         Single             65            68\n",
            "99      100       5      F        Married             79            72\n",
            "\n",
            "[100 rows x 6 columns]\n"
          ]
        }
      ]
    },
    {
      "cell_type": "markdown",
      "source": [
        "# **Unit 2**"
      ],
      "metadata": {
        "id": "FBCHF6swG3Ll"
      }
    },
    {
      "cell_type": "code",
      "source": [
        "population = df['Sports'].to_numpy()\n",
        "mean = population.mean()"
      ],
      "metadata": {
        "id": "BOhUfNKqHwIl"
      },
      "execution_count": null,
      "outputs": []
    },
    {
      "cell_type": "markdown",
      "source": [
        "z-test for one sample, mean"
      ],
      "metadata": {
        "id": "qE3Yy16WTIgl"
      }
    },
    {
      "cell_type": "code",
      "source": [
        "print('H0: Average number of sports that a person plays equal to 8.')\n",
        "print('H1: Average number of sports that a person plays is not equal to 8.')\n",
        "alpha = 0.05 #Taking alpha as 5%\n",
        "sample_size = 50\n",
        "sample = df['Sports'].sample(sample_size)\n",
        "sample_mean = np.mean(sample)\n",
        "sample_SD = np.std(sample)\n",
        "n = np.shape(sample)[0]\n",
        "Z_calc = abs(sample_mean - mean)/(sample_SD/(np.sqrt(n-1)))\n",
        "Z_tab = scipy.stats.norm.ppf(1-alpha)\n",
        "print(f\"Z_calc = {Z_calc} and Z_tab = {Z_tab}\")\n",
        "\n",
        "if Z_calc <= Z_tab:\n",
        "    print(\"Null hypothesis is accepted\")\n",
        "else:\n",
        "    print(\"Null hypothesis is rejected\")\n",
        "\n",
        "print(f\"Confidence interval for {alpha}\")\n",
        "standard_error = (sample_SD/(np.sqrt(n-1)))*(Z_tab)\n",
        "\n",
        "lower_limit = sample_mean - standard_error\n",
        "upper_limit = sample_mean + standard_error\n",
        "print(f\"{lower_limit} <= mean <= {upper_limit}\")\n",
        "\n"
      ],
      "metadata": {
        "colab": {
          "base_uri": "https://localhost:8080/"
        },
        "id": "C55SXZlPG2gK",
        "outputId": "b8112829-f6e3-4866-bb06-600123cc4c96"
      },
      "execution_count": null,
      "outputs": [
        {
          "output_type": "stream",
          "name": "stdout",
          "text": [
            "H0: Average number of sports that a person plays equal to 8.\n",
            "H1: Average number of sports that a person plays is not equal to 8.\n",
            "Z_calc = 1.340648305610111 and Z_tab = 1.6448536269514722\n",
            "Null hypothesis is accepted\n",
            "Confidence interval for 0.05\n",
            "6.980661804114491 <= mean <= 8.37933819588551\n"
          ]
        }
      ]
    },
    {
      "cell_type": "markdown",
      "source": [
        "z-test for two samples, mean"
      ],
      "metadata": {
        "id": "582g9yqGTT6P"
      }
    },
    {
      "cell_type": "code",
      "source": [
        "print('H0 : There is no difference between the means of the populations.')\n",
        "print('H1 : There is difference between the means of the populations.')\n",
        "alpha = 0.10\n",
        "n_1 = 35\n",
        "n_2 = 40\n",
        "sample_1 = df['Sports'].sample(n_1)\n",
        "print(sample_1)\n",
        "sample_2 = df['Sports'].sample(n_2)\n",
        "print(sample_2)\n",
        "sample_1_mean = np.mean(sample_1)\n",
        "sample_2_mean = np.mean(sample_2)\n",
        "SD_1 = np.std(sample_1)\n",
        "SD_2 = np.std(sample_2)\n",
        "Z_cal = abs(sample_1_mean-sample_2_mean)/np.sqrt((SD_1)**2/n_1 + (SD_2)**2/n_2)\n",
        "Z_tab = scipy.stats.norm.ppf(1-alpha)\n",
        "print(f\"Z_cal = {Z_cal} and Z_tab = {Z_tab}\")\n",
        "if Z_cal <= Z_tab:\n",
        "    print(\"Null hypothesis accepted\")\n",
        "else:\n",
        "    print(\"Null hypothesis is rejected\")\n",
        "\n",
        "print(f\"The confidence interval is given by: \")\n",
        "margin_error = (np.sqrt((SD_1)**2/n_1 + (SD_2)**2/n_2))*Z_tab\n",
        "estimated_diff = (abs(sample_1_mean-sample_2_mean))\n",
        "\n",
        "lower_limit = estimated_diff - margin_error\n",
        "upper_limit = estimated_diff + margin_error\n",
        "print(f\"{lower_limit} <= difference_mean <= {upper_limit}\")"
      ],
      "metadata": {
        "colab": {
          "base_uri": "https://localhost:8080/"
        },
        "id": "n4JuqtStYTUn",
        "outputId": "c6ccbe40-7d05-4a2f-a059-17e248e884e6"
      },
      "execution_count": null,
      "outputs": [
        {
          "output_type": "stream",
          "name": "stdout",
          "text": [
            "H0 : There is no difference between the means of the populations.\n",
            "H1 : There is difference between the means of the populations.\n",
            "86     8\n",
            "96     8\n",
            "19     6\n",
            "13     7\n",
            "59     6\n",
            "62     5\n",
            "92     7\n",
            "95     5\n",
            "37     6\n",
            "58     5\n",
            "48     8\n",
            "87    10\n",
            "15    18\n",
            "75     8\n",
            "66    18\n",
            "25     5\n",
            "41     5\n",
            "79     7\n",
            "14    12\n",
            "49     9\n",
            "38    15\n",
            "34    18\n",
            "12     8\n",
            "31    10\n",
            "43    16\n",
            "57     9\n",
            "72    11\n",
            "36     6\n",
            "67     9\n",
            "71    10\n",
            "63     9\n",
            "56     8\n",
            "82     7\n",
            "26     6\n",
            "89     7\n",
            "Name: Sports, dtype: int64\n",
            "87    10\n",
            "77     5\n",
            "95     5\n",
            "63     9\n",
            "45     5\n",
            "19     6\n",
            "85     6\n",
            "25     5\n",
            "44    10\n",
            "42     5\n",
            "80     6\n",
            "6     15\n",
            "73     7\n",
            "69    13\n",
            "0      6\n",
            "76     8\n",
            "53     5\n",
            "13     7\n",
            "15    18\n",
            "32     9\n",
            "52     9\n",
            "88     7\n",
            "7     11\n",
            "8      6\n",
            "74     5\n",
            "48     8\n",
            "75     8\n",
            "46     5\n",
            "90    14\n",
            "36     6\n",
            "26     6\n",
            "65     6\n",
            "81    11\n",
            "39     6\n",
            "2      8\n",
            "91    10\n",
            "61     6\n",
            "86     8\n",
            "58     5\n",
            "92     7\n",
            "Name: Sports, dtype: int64\n",
            "Z_cal = 1.4006793238413946 and Z_tab = 1.2815515655446004\n",
            "Null hypothesis is rejected\n",
            "The confidence interval is given by: \n",
            "0.09476998552455984 <= difference_mean <= 2.1338014430468695\n"
          ]
        }
      ]
    },
    {
      "cell_type": "markdown",
      "source": [
        "z-test for one sample, proportion"
      ],
      "metadata": {
        "id": "dqdiSXFEGYFz"
      }
    },
    {
      "cell_type": "code",
      "source": [
        "print('H0: 55% of all sportsmen are married')\n",
        "print('H1: 55% of all sportsmen are not married')\n",
        "alpha = 0.05 #Taking alpha as 5%\n",
        "pb=0.55 #estimated proprtion = 55%\n",
        "sample_size = 80\n",
        "sample = df['Marital Status'].sample(sample_size)\n",
        "n = np.shape(sample)[0]\n",
        "count=0\n",
        "for x in sample:\n",
        "  if x=='Married':\n",
        "    count+=1\n",
        "p=(count/sample_size)\n",
        "print(\"Calculated proportion from sample: \",p)\n",
        "Z_calc = abs(p-pb)/np.sqrt((p*(1-p))/n)\n",
        "Z_tab = scipy.stats.norm.ppf(1-alpha)\n",
        "print(f\"Z_calc = {Z_calc} and Z_tab = {Z_tab}\")\n",
        "\n",
        "if Z_calc <= Z_tab:\n",
        "    print(\"H0 is accepted. There is not enough evidence to reject the claim.\")\n",
        "else:\n",
        "    print(\"H0 is rejected. There is enough evidence to reject the claim.\")\n",
        "\n",
        "print(f\"Confidence interval for {alpha} level of significance: \")\n",
        "standard_error = (np.sqrt((p*(1-p))/n))*(Z_tab)\n",
        "\n",
        "lower_limit = p - standard_error\n",
        "upper_limit = p + standard_error \n",
        "print(f\"{lower_limit} <= proportion <= {upper_limit}\")"
      ],
      "metadata": {
        "id": "daLPpI6qGcda",
        "outputId": "cfc10617-5cb8-4ee8-dac8-e42d6154f363",
        "colab": {
          "base_uri": "https://localhost:8080/"
        }
      },
      "execution_count": null,
      "outputs": [
        {
          "output_type": "stream",
          "name": "stdout",
          "text": [
            "H0: 55% of all sportsmen are married\n",
            "H1: 55% of all sportsmen are not married\n",
            "Calculated proportion from sample:  0.5\n",
            "Z_calc = 0.8944271909999167 and Z_tab = 1.6448536269514722\n",
            "H0 is accepted. There is not enough evidence to reject the claim.\n",
            "Confidence interval for 0.05 level of significance: \n",
            "0.40804988692748567 <= proportion <= 0.5919501130725143\n"
          ]
        }
      ]
    },
    {
      "cell_type": "markdown",
      "source": [
        "z-test for two samples, proportion"
      ],
      "metadata": {
        "id": "Ylzu42k_KDBr"
      }
    },
    {
      "cell_type": "code",
      "source": [
        "print('H0: There is no significant difference between the proportions of married male and female sportsmen.')\n",
        "print('H1: There is a significant difference between the proportions of married male and female sportsmen.')\n",
        "alpha = 0.05 #Taking alpha as 5%\n",
        "sample_size = 80\n",
        "sample = df[['Marital Status','Gender']].sample(sample_size).to_numpy()\n",
        "Sample1,Sample2=[],[]\n",
        "\n",
        "for x in sample:\n",
        "  if x[1]=='M':\n",
        "    Sample1.append(x[0])\n",
        "  else:\n",
        "    Sample2.append(x[0])\n",
        "\n",
        "def calculateProportion(A):\n",
        "  count=0\n",
        "  for x in A:\n",
        "    if x=='Married':\n",
        "      count+=1\n",
        "  return count,len(A)\n",
        "\n",
        "x1,n1=calculateProportion(Sample1)\n",
        "x2,n2=calculateProportion(Sample2)\n",
        "\n",
        "p1, p2 = x1/n1, x2/n2\n",
        "\n",
        "print(\"Calculated proportions from samples: \")\n",
        "print(f\"Proportion for male sample = {p1} and Proportion for female sample = {p2}\")\n",
        "\n",
        "p=(x1+x2)/(n1+n2)\n",
        "q=1-p\n",
        "\n",
        "Z_calc = abs(p1-p2)/np.sqrt(p*q*((1/n1)+(1/n2)))\n",
        "Z_tab = scipy.stats.norm.ppf(1-alpha)\n",
        "print(f\"Z_calc = {Z_calc} and Z_tab = {Z_tab}\")\n",
        "\n",
        "if Z_calc <= Z_tab:\n",
        "    print(\"H0 is accepted. There is not enough evidence to reject the claim.\")\n",
        "else:\n",
        "    print(\"H0 is rejected. There is enough evidence to reject the claim.\")\n",
        "\n",
        "print(f\"Confidence interval for {alpha} level of significance: \")\n",
        "standard_error = (np.sqrt(p*q*((1/n1)+(1/n2))))*(Z_tab)\n",
        "proportion_difference = abs(p1-p2)\n",
        "\n",
        "lower_limit = proportion_difference - standard_error\n",
        "upper_limit = proportion_difference + standard_error\n",
        "\n",
        "print(f\"{lower_limit} <= difference in proportions <= {upper_limit}\")"
      ],
      "metadata": {
        "id": "xYggcuxVKGKP",
        "colab": {
          "base_uri": "https://localhost:8080/"
        },
        "outputId": "5bb4eece-5ba9-4411-802f-b200fa484ffc"
      },
      "execution_count": null,
      "outputs": [
        {
          "output_type": "stream",
          "name": "stdout",
          "text": [
            "H0: There is no significant difference between the proportions of married male and female sportsmen.\n",
            "H1: There is a significant difference between the proportions of married male and female sportsmen.\n",
            "Calculated proportions from samples: \n",
            "Proportion for male sample = 0.45 and Proportion for female sample = 0.575\n",
            "Z_calc = 1.1183835382312346 and Z_tab = 1.6448536269514722\n",
            "H0 is accepted. There is not enough evidence to reject the claim.\n",
            "Confidence interval for 0.05 level of significance: \n",
            "-0.05884274834204792 <= difference in proportions <= 0.30884274834204783\n"
          ]
        }
      ]
    },
    {
      "cell_type": "markdown",
      "source": [
        "t-test for one sample"
      ],
      "metadata": {
        "id": "YYLQV1KGTvOL"
      }
    },
    {
      "cell_type": "code",
      "source": [
        "print('H0: Average weight of a person before taking enhancers is equal to 70.')\n",
        "print('H1: Average weight of a person before taking enhancers is not equal to 70.')\n",
        "sample_size = 15\n",
        "population = df['Weight before'].to_numpy()\n",
        "mean = population.mean()\n",
        "t_sample = df['Weight before'].sample(sample_size)\n",
        "alpha = 0.05\n",
        "n = np.shape(t_sample)[0]\n",
        "dof = n-1\n",
        "sample_mean = t_sample.mean()\n",
        "sample_SD = t_sample.std()\n",
        "t_tab = scipy.stats.t.ppf(q=1-alpha,df=dof)\n",
        "t_cal = abs(sample_mean - mean)/(sample_SD/(np.sqrt(n-1)))\n",
        " \n",
        "print(f\"t_cal = {t_cal} and t_tab = {t_tab}\")\n",
        "if t_cal <= t_tab:\n",
        "    print(\"Accept Null hypothesis\")\n",
        "else:\n",
        "    print(\"Null hypothesis rejected\")\n",
        "\n",
        "standard_error = (sample_SD/(np.sqrt(n-1)))*(t_tab)\n",
        "\n",
        "lower_limit = sample_mean - standard_error\n",
        "upper_limit = sample_mean + standard_error\n",
        "print(f\"{lower_limit} <= mean <= {upper_limit}\")"
      ],
      "metadata": {
        "colab": {
          "base_uri": "https://localhost:8080/"
        },
        "id": "PHTyxBuncJsr",
        "outputId": "713bfbab-e1eb-4d45-e6d3-d9a2e56ad2d5"
      },
      "execution_count": null,
      "outputs": [
        {
          "output_type": "stream",
          "name": "stdout",
          "text": [
            "H0: Average weight of a person before taking enhancers is equal to 70.\n",
            "H1: Average weight of a person before taking enhancers is not equal to 70.\n",
            "t_cal = 0.7196523615823809 and t_tab = 1.7613101357748562\n",
            "Accept Null hypothesis\n",
            "66.49940096633888 <= mean <= 71.10059903366111\n"
          ]
        }
      ]
    },
    {
      "cell_type": "markdown",
      "source": [
        "t-test for two independent samples"
      ],
      "metadata": {
        "id": "kDwq5KL1Typ1"
      }
    },
    {
      "cell_type": "code",
      "source": [
        "print('H0 : Both samples are from the same population.')\n",
        "print('H1 : Both samples are from different populations.')\n",
        "alpha = 0.05\n",
        "n_1 = 11\n",
        "n_2 = 16\n",
        "dof = n_1 + n_2 - 2\n",
        "sample_1 = df['Weight before'].sample(n_1)\n",
        "sample_2 = df['Weight before'].sample(n_2)\n",
        "sample_1_mean = np.mean(sample_1)\n",
        "sample_2_mean = np.mean(sample_2)\n",
        "SD1 = sample_1.std()\n",
        "SD2 = sample_2.std()\n",
        "t_tab = scipy.stats.t.ppf(q=1-alpha,df=dof)\n",
        "t_cal = (abs(sample_1_mean-sample_2_mean))/(np.sqrt((SD1)**2/n_1 + (SD2)**2/n_2))\n",
        "print(f\"t_cal = {t_cal} and t_tab = {t_tab}\")\n",
        "if t_cal <= t_tab:\n",
        "    print(\"Accept Null hypothesis\")\n",
        "else:\n",
        "    print(\"Null hypothesis rejected\")\n",
        "\n",
        "print(f\"The confidence interval is given by: \")\n",
        "margin_error = (np.sqrt((SD1)**2/n_1 + (SD2)**2/n_2))*t_tab\n",
        "estimated_diff = (abs(sample_1_mean-sample_2_mean))\n",
        "\n",
        "lower_limit = estimated_diff - margin_error\n",
        "upper_limit = estimated_diff + margin_error\n",
        "print(f\"{lower_limit} <= difference_mean <= {upper_limit}\")"
      ],
      "metadata": {
        "colab": {
          "base_uri": "https://localhost:8080/"
        },
        "id": "CRpejnY9Nper",
        "outputId": "ddd433d9-293f-43ff-e055-49a8fc8ef536"
      },
      "execution_count": null,
      "outputs": [
        {
          "output_type": "stream",
          "name": "stdout",
          "text": [
            "H0 : Both samples are from the same population.\n",
            "H1 : Both samples are from different populations.\n",
            "t_cal = 1.1976542300874817 and t_tab = 1.7081407612518986\n",
            "Accept Null hypothesis\n",
            "The confidence interval is given by: \n",
            "-1.0752838859295348 <= difference_mean <= 6.120738431384067\n"
          ]
        }
      ]
    },
    {
      "cell_type": "markdown",
      "source": [
        "t-test for two dependent samples"
      ],
      "metadata": {
        "id": "Hq3JinnZT8QC"
      }
    },
    {
      "cell_type": "code",
      "source": [
        "print('H0 : Weight of a person after the test is the same as the one before.')\n",
        "print('H1 : Weight of a person after the test is different from the one before')\n",
        "n = 12\n",
        "alpha = 0.05\n",
        "dof = n-1\n",
        "sample = df[['Weight before','Weight after']].sample(n)\n",
        "data = sample['Weight before'] - sample['Weight after']\n",
        "diff = data.to_numpy()\n",
        "sample_mean = diff.mean()\n",
        "sample_SD = diff.std()\n",
        "t_tab = scipy.stats.t.ppf(q=1-alpha,df=dof)\n",
        "t_cal = abs(sample_mean - 0)/(sample_SD/(np.sqrt(n)))\n",
        "print(f\"t_cal = {t_cal} and t_tab = {t_tab}\")\n",
        "if t_cal <= t_tab:\n",
        "    print(\"Accept Null hypothesis\")\n",
        "else:\n",
        "    print(\"Null hypothesis rejected\")\n",
        "\n",
        "print(f\"Confidence interval for {alpha}\")\n",
        "standard_error = (sample_SD/(np.sqrt(n-1)))*(t_tab)\n",
        "\n",
        "lower_limit = sample_mean - standard_error\n",
        "upper_limit = sample_mean + standard_error\n",
        "print(f\"{lower_limit} <= mean <= {upper_limit}\")"
      ],
      "metadata": {
        "colab": {
          "base_uri": "https://localhost:8080/"
        },
        "id": "8V6K6ueTPoJL",
        "outputId": "d4e70791-c4d4-4bb6-858a-6ae86ffdec5c"
      },
      "execution_count": null,
      "outputs": [
        {
          "output_type": "stream",
          "name": "stdout",
          "text": [
            "H0 : Weight of a person after the test is the same as the one before.\n",
            "H1 : Weight of a person after the test is different from the one before\n",
            "t_cal = 1.4911684884510747 and t_tab = 1.7958848187036691\n",
            "Accept Null hypothesis\n",
            "Confidence interval for 0.05\n",
            "-4.139482935007114 <= mean <= 0.4728162683404469\n"
          ]
        }
      ]
    },
    {
      "cell_type": "markdown",
      "source": [
        "# **Unit 3**"
      ],
      "metadata": {
        "id": "S3acCxe7V68I"
      }
    },
    {
      "cell_type": "markdown",
      "source": [
        "# Sign test for one sample                  \n",
        "![image.png](data:image/png;base64,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)\n",
        "\n",
        "The Weights are Hypothesized that the Median is equal. A random sample of 27 member weights are yielded. At α=0.05, test the hypothesis."
      ],
      "metadata": {
        "id": "TX8nHPCPFebO"
      }
    },
    {
      "cell_type": "code",
      "source": [
        "print('H0 : Median is equal to the hypothesized value') ### Claim\n",
        "print('H1 : Median is not equal to the hypothesized value')              ### the Hypothese made\n",
        "\n",
        "def oneSampleSignTest(data, claim) :                                      ### Function to Calculate One Sample Sign test\n",
        "  sample_size = len(data)\n",
        "  plus_count, minus_count = 0, 0\n",
        "\n",
        "  for i in data:                                                          ### Loop helps to check the data \n",
        "    if i > claim:\n",
        "      plus_count += 1\n",
        "    elif i < claim:\n",
        "      minus_count += 1\n",
        "\n",
        "  if(sample_size < 26):\n",
        "    test_value = min(plus_count, minus_count)\n",
        "    return [test_value, plus_count, minus_count]\n",
        "  else:\n",
        "    X = min(plus_count, minus_count)\n",
        "    z_calculated = ((X + 0.05) - (sample_size/2))/np.sqrt(sample_size/2)\n",
        "    return [z_calculated, plus_count, minus_count]\n",
        "\n",
        "\n",
        "def showResults(test_value, plus_count, minus_count, sample_size):\n",
        "  n = plus_count + minus_count\n",
        "  print(f\"\\nThe total number of plus and minus signs omit the zeros: {n}\")\n",
        "  print(f\"Test value: {abs(test_value)}\")\n",
        "\n",
        "  if(sample_size < 26):\n",
        "    \n",
        "    # At 95% Confidence level and 2-tailed test the critical value is 4.\n",
        "\n",
        "    if test_value <= 4:\n",
        "      print(\"\\nNull hypothesis is rejected.\")\n",
        "    else:\n",
        "      print(\"\\nNull hypothesis is accepted.\")\n",
        "  else:\n",
        "    \n",
        "    # At 95% Confidence level and 2-tailed test the critical value is 1.96.\n",
        "\n",
        "    if abs(test_value) >= 1.96 :\n",
        "      print(\"\\nNull hypothesis is rejected.\")\n",
        "    else:\n",
        "      print(\"\\nNull hypothesis is accepted.\")\n",
        "\n",
        "n = 27\n",
        "data = df['Weight before'].sample(n).to_numpy()\n",
        "\n",
        "[test_value, plus_count, minus_count] = oneSampleSignTest(data, 11)\n",
        "showResults(test_value, plus_count, minus_count, len(data))"
      ],
      "metadata": {
        "id": "JfIeqUeAWAEg",
        "colab": {
          "base_uri": "https://localhost:8080/"
        },
        "outputId": "bd1f7b98-fef3-470f-fd1b-1addca00331c"
      },
      "execution_count": null,
      "outputs": [
        {
          "output_type": "stream",
          "name": "stdout",
          "text": [
            "H0 : Median is equal to the hypothesized value\n",
            "H1 : Median is not equal to the hypothesized value\n",
            "\n",
            "The total number of plus and minus signs omit the zeros: 27\n",
            "Test value: 3.6606263378259714\n",
            "\n",
            "Null hypothesis is rejected.\n"
          ]
        }
      ]
    },
    {
      "cell_type": "markdown",
      "source": [
        "# Runs test\n",
        "\n",
        "100 People weights are checked randomly. Test the\n",
        "claim that the data is random or not,  At α=0.05, test the hypothesis."
      ],
      "metadata": {
        "id": "zMDlE0-zFkXV"
      }
    },
    {
      "cell_type": "code",
      "source": [
        "print('H0 : The data is random')     ### Claim         \n",
        "print('H1 : The data is not random')\n",
        "\n",
        "def runsTest(l, l_median) :                        ### Function For Runs Test\n",
        "\n",
        "  runs, n1, n2 = 0, 0, 0                           ### Initially all variables initialised with 0\n",
        "\n",
        "  # Checking for start of new run\n",
        "  for i in range(len(l)):\n",
        "\n",
        "    # no. of runs\n",
        "    if (l[i] >= l_median and l[i-1] < l_median) or (l[i] < l_median and l[i-1] >= l_median):\n",
        "      runs += 1\n",
        "\n",
        "    # no. of positive values\n",
        "    if(l[i]) >= l_median:\n",
        "      n1 += 1\n",
        "\n",
        "    # no. of negative values\n",
        "    else:\n",
        "      n2 += 1\n",
        "\n",
        "  runs_exp = ((2*n1*n2)/(n1+n2))+1\n",
        "  st_dev = math.sqrt((2*n1*n2*(2*n1*n2-n1-n2)) / (((n1+n2)**2)*(n1+n2-1)))\n",
        "\n",
        "  z = (runs-runs_exp)/st_dev\n",
        "\n",
        "  return z\n",
        "n = 50     ###Checking 50 members weights\n",
        "data = df['Weight after'].sample(n).to_numpy()\n",
        "\n",
        "l_median = statistics.median(data)\n",
        "\n",
        "Z_cal = abs(runsTest(data, l_median))\n",
        "print('\\ntest-statistic =', Z_cal)\n",
        "\n",
        "alpha = 0.05\n",
        "Z_tab = scipy.stats.norm.ppf(1-alpha)\n",
        "\n",
        "if abs(Z_cal) > Z_tab :\n",
        "  print(\"\\nNull hypothesis is rejected.\")\n",
        "else:\n",
        "  print(\"\\nNull hypothesis is accepted.\")\n"
      ],
      "metadata": {
        "colab": {
          "base_uri": "https://localhost:8080/",
          "height": 269
        },
        "id": "ieB92_MJaNgZ",
        "outputId": "d23ed6fb-ece7-4579-9daf-401186c21ce2"
      },
      "execution_count": 1,
      "outputs": [
        {
          "output_type": "stream",
          "name": "stdout",
          "text": [
            "H0 : The data is random\n",
            "H1 : The data is not random\n"
          ]
        },
        {
          "output_type": "error",
          "ename": "NameError",
          "evalue": "ignored",
          "traceback": [
            "\u001b[0;31m---------------------------------------------------------------------------\u001b[0m",
            "\u001b[0;31mNameError\u001b[0m                                 Traceback (most recent call last)",
            "\u001b[0;32m<ipython-input-1-f3bb46d65398>\u001b[0m in \u001b[0;36m<module>\u001b[0;34m\u001b[0m\n\u001b[1;32m     28\u001b[0m   \u001b[0;32mreturn\u001b[0m \u001b[0mz\u001b[0m\u001b[0;34m\u001b[0m\u001b[0;34m\u001b[0m\u001b[0m\n\u001b[1;32m     29\u001b[0m \u001b[0mn\u001b[0m \u001b[0;34m=\u001b[0m \u001b[0;36m50\u001b[0m     \u001b[0;31m###Checking 50 members weights\u001b[0m\u001b[0;34m\u001b[0m\u001b[0;34m\u001b[0m\u001b[0m\n\u001b[0;32m---> 30\u001b[0;31m \u001b[0mdata\u001b[0m \u001b[0;34m=\u001b[0m \u001b[0mdf\u001b[0m\u001b[0;34m[\u001b[0m\u001b[0;34m'Weight after'\u001b[0m\u001b[0;34m]\u001b[0m\u001b[0;34m.\u001b[0m\u001b[0msample\u001b[0m\u001b[0;34m(\u001b[0m\u001b[0mn\u001b[0m\u001b[0;34m)\u001b[0m\u001b[0;34m.\u001b[0m\u001b[0mto_numpy\u001b[0m\u001b[0;34m(\u001b[0m\u001b[0;34m)\u001b[0m\u001b[0;34m\u001b[0m\u001b[0;34m\u001b[0m\u001b[0m\n\u001b[0m\u001b[1;32m     31\u001b[0m \u001b[0;34m\u001b[0m\u001b[0m\n\u001b[1;32m     32\u001b[0m \u001b[0ml_median\u001b[0m \u001b[0;34m=\u001b[0m \u001b[0mstatistics\u001b[0m\u001b[0;34m.\u001b[0m\u001b[0mmedian\u001b[0m\u001b[0;34m(\u001b[0m\u001b[0mdata\u001b[0m\u001b[0;34m)\u001b[0m\u001b[0;34m\u001b[0m\u001b[0;34m\u001b[0m\u001b[0m\n",
            "\u001b[0;31mNameError\u001b[0m: name 'df' is not defined"
          ]
        }
      ]
    },
    {
      "cell_type": "markdown",
      "source": [
        "# Wilcoxon Rank Sum Test\n",
        "\n",
        "![image.png](data:image/png;base64,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)\n",
        "\n",
        "Two independent samples of Male and Female weights are taken. complete data of weight classes is recorded, At α=0.05, is there a difference in the weights of Males and females."
      ],
      "metadata": {
        "id": "vNJfQns0XCB6"
      }
    },
    {
      "cell_type": "code",
      "source": [
        "print('H0 : There is a difference in weights for males and females')     ### Claim\n",
        "print('H1 : There is no difference in weights for males and females')\n",
        "\n",
        "from scipy import stats\n",
        "alpha = 0.05\n",
        "z_tab=-1.96\n",
        "print(\"Z-tab = \", z_tab)\n",
        "\n",
        "\n",
        "x = df['Weight before'].to_numpy()\n",
        "y = df['Weight after'].to_numpy()\n",
        "\n",
        "results = stats.ranksums(x, y)\n",
        "z = results[0]\n",
        "print(\"\\nz_calc = \",z)\n",
        "  \n",
        "if( z < z_tab):\n",
        "  print(\"\\nNull hypothesis is Rejected.\")\n",
        "else:\n",
        "  print(\"\\nNull hypothesis is Accepted.\")"
      ],
      "metadata": {
        "colab": {
          "base_uri": "https://localhost:8080/"
        },
        "id": "_IFgv3MlVZhv",
        "outputId": "b014d47f-d022-432f-b74e-e5d0e3d90c7e"
      },
      "execution_count": null,
      "outputs": [
        {
          "output_type": "stream",
          "name": "stdout",
          "text": [
            "H0 : There is a difference in weights for males and females\n",
            "H1 : There is no difference in weights for males and females\n",
            "Z-tab =  -1.96\n",
            "\n",
            "z_calc =  -0.34573952752834375\n",
            "\n",
            "Null hypothesis is Accepted.\n"
          ]
        }
      ]
    },
    {
      "cell_type": "markdown",
      "source": [
        "# Wilcoxon Signed Rank Test\n",
        "In a large Weights data, we wish to see whether the data sample selected randomly. Is there enough evidence to support the claim, at α=0.05, that there is a difference in data taken randomly or not."
      ],
      "metadata": {
        "id": "b1ek4s5BFsuu"
      }
    },
    {
      "cell_type": "code",
      "source": [
        "print(\"H0: The sample of Weights selected is random.\")         ### Claim\n",
        "print(\"H1: The sample of Weights selected is not random.\")\n",
        "\n",
        "from scipy import stats\n",
        "alpha = 0.05\n",
        "z_tab=-1.96\n",
        "\n",
        "\n",
        "x = df['Weight before'].to_numpy()\n",
        "y = df['Weight after'].to_numpy()\n",
        "\n",
        "results = stats.wilcoxon(x, y)\n",
        "z = results[0]\n",
        "print(\"\\nz_calc = \",z)\n",
        "\n",
        "if( z < z_tab):\n",
        "  print(\"\\nNull hypothesis is Rejected.\")\n",
        "else:\n",
        "  print(\"\\nNull hypothesis is Accepted.\")"
      ],
      "metadata": {
        "colab": {
          "base_uri": "https://localhost:8080/"
        },
        "id": "46BQaXR7ataF",
        "outputId": "40c7414c-5f0b-4bc3-c29f-e83446bc4030"
      },
      "execution_count": null,
      "outputs": [
        {
          "output_type": "stream",
          "name": "stdout",
          "text": [
            "H0: The sample selected is random.\n",
            "H1: The sample selected is not random.\n",
            "\n",
            "z_calc =  2409.0\n",
            "\n",
            "Null hypothesis is Accepted.\n"
          ]
        }
      ]
    },
    {
      "cell_type": "markdown",
      "source": [
        "# **Unit 4**"
      ],
      "metadata": {
        "id": "HyCON7M9bYWb"
      }
    },
    {
      "cell_type": "code",
      "source": [
        "\n",
        "print(df)\n",
        "l1 = df.iloc[:,-1:].values\n",
        "l2 = df.iloc[:, 4:5].values\n",
        "f1 = df.iloc[:,1:2].values\n",
        "wb = []\n",
        "wa = []\n",
        "sports = []\n",
        "for i in range(0, len(l1)):\n",
        "  wb.append(int(l1[i][0]))\n",
        "  wa.append(int(l2[i][0]))\n",
        "  sports.append(int(f1[i][0]))\n",
        "\n",
        "print(wb)\n",
        "print(wa)\n",
        "print(sports)"
      ],
      "metadata": {
        "colab": {
          "base_uri": "https://localhost:8080/"
        },
        "outputId": "297c2b1c-35fa-442e-d334-542b2122e85a",
        "id": "7R3VYZr2ev3s"
      },
      "execution_count": null,
      "outputs": [
        {
          "output_type": "stream",
          "name": "stdout",
          "text": [
            "    Sr. No.  Sports Gender Marital Status  Weight before  Weight after\n",
            "0         1       6      M         Single             62            60\n",
            "1         2       6      F        Married             78            80\n",
            "2         3       8      F        Married             64            68\n",
            "3         4      11      M         Single             73            76\n",
            "4         5      11      M        Married             75            67\n",
            "..      ...     ...    ...            ...            ...           ...\n",
            "95       96       5      F        Married             65            61\n",
            "96       97       8      F        Married             64            69\n",
            "97       98       8      M         Single             73            76\n",
            "98       99      11      M         Single             65            68\n",
            "99      100       5      F        Married             79            72\n",
            "\n",
            "[100 rows x 6 columns]\n",
            "[60, 80, 68, 76, 67, 69, 66, 61, 79, 72, 61, 68, 77, 67, 74, 60, 62, 66, 69, 66, 80, 76, 79, 70, 69, 67, 64, 69, 65, 62, 74, 80, 70, 76, 75, 69, 66, 69, 61, 67, 64, 72, 78, 74, 65, 61, 70, 73, 77, 70, 80, 68, 73, 71, 80, 70, 61, 71, 63, 70, 77, 74, 69, 80, 73, 67, 62, 65, 66, 68, 74, 70, 80, 68, 72, 68, 68, 71, 80, 74, 73, 62, 71, 62, 66, 64, 67, 77, 73, 74, 60, 67, 63, 80, 78, 61, 69, 76, 68, 72]\n",
            "[62, 78, 64, 73, 75, 65, 74, 63, 77, 78, 64, 60, 75, 71, 70, 63, 67, 72, 64, 62, 78, 80, 77, 67, 73, 72, 68, 63, 61, 65, 77, 76, 73, 70, 79, 71, 70, 68, 65, 61, 63, 68, 73, 79, 60, 68, 63, 80, 76, 75, 79, 65, 67, 74, 78, 73, 63, 75, 68, 66, 75, 79, 72, 75, 74, 64, 69, 62, 61, 60, 69, 64, 76, 71, 65, 62, 65, 66, 73, 79, 75, 68, 77, 67, 64, 65, 72, 70, 67, 73, 66, 63, 60, 77, 79, 65, 64, 73, 65, 79]\n",
            "[6, 6, 8, 11, 11, 8, 15, 11, 6, 14, 13, 8, 8, 7, 12, 18, 5, 13, 14, 6, 9, 6, 5, 6, 5, 5, 6, 9, 7, 6, 6, 10, 9, 7, 18, 7, 6, 6, 15, 6, 11, 5, 5, 16, 10, 5, 5, 7, 8, 9, 5, 7, 9, 5, 5, 8, 8, 9, 5, 6, 5, 6, 5, 9, 11, 6, 18, 9, 5, 13, 7, 10, 11, 7, 5, 8, 8, 5, 7, 7, 6, 11, 7, 5, 4, 6, 8, 10, 7, 7, 14, 10, 7, 10, 12, 5, 8, 8, 11, 5]\n"
          ]
        }
      ]
    },
    {
      "cell_type": "code",
      "execution_count": null,
      "metadata": {
        "id": "JwTwAB9YzpKs"
      },
      "outputs": [],
      "source": [
        "from scipy.stats import chi2\n",
        "def chi_square_test(obs, exp, alpha=0.05):\n",
        "  n = len(obs)\n",
        "  chi_square = 0\n",
        "  for i in range(n):\n",
        "    chi_square += (((obs[i] - exp[i])**2)/exp[i])\n",
        "  \n",
        "  cv = chi2.ppf(1-alpha, n-1)\n",
        "  newline = '\\n'\n",
        "  print(f\"alpha= {alpha}{newline}df= {n-1}{newline}Chi-Square= {round(chi_square, 4)}{newline}Critical Value= {round(cv, 3)}{newline}\")\n",
        "  if(chi_square > cv):\n",
        "    return \"The decision is to reject the null hypothesis\"\n",
        "  else:\n",
        "    return \"The decision is to accept the null hypothesis\""
      ]
    },
    {
      "cell_type": "markdown",
      "source": [
        "A researcher wished to see the number of sports/games played by a person in a street. A sample of 100 people provided the data."
      ],
      "metadata": {
        "id": "-QvQtupb6zft"
      }
    },
    {
      "cell_type": "code",
      "source": [
        "count1, count2, count3, count4 = 0, 0, 0, 0\n",
        "for i in sports:\n",
        "  if(i <= 6):\n",
        "    count1 += 1\n",
        "  elif(i < 9 and i > 6):\n",
        "    count2 += 1\n",
        "  elif(i >= 9 and i < 14):\n",
        "    count3 += 1\n",
        "  else:\n",
        "    count4 += 1\n",
        "\n",
        "obs = [count1, count2, count3, count4]\n",
        "exp = [25, 25, 25, 25]\n",
        "print(\"Observed: \", obs)\n",
        "print(\"Expected: \", exp)"
      ],
      "metadata": {
        "colab": {
          "base_uri": "https://localhost:8080/"
        },
        "id": "_MofmCMS3qz8",
        "outputId": "f5a28abf-32f0-4f64-8d93-d9d095b0d61b"
      },
      "execution_count": null,
      "outputs": [
        {
          "output_type": "stream",
          "name": "stdout",
          "text": [
            "Observed:  [38, 26, 27, 9]\n",
            "Expected:  [25, 25, 25, 25]\n"
          ]
        }
      ]
    },
    {
      "cell_type": "code",
      "source": [
        "import matplotlib.pyplot as plt\n",
        "obs = [count1, count2, count3, count4]\n",
        "exp = [25, 25, 25, 25]\n",
        "plt.plot(obs,'r-')\n",
        "plt.plot(exp,'b-')"
      ],
      "metadata": {
        "colab": {
          "base_uri": "https://localhost:8080/",
          "height": 282
        },
        "id": "tvXeL9GYeQB2",
        "outputId": "b9c7aae4-89bb-4ed0-ca32-33e0baa1854e"
      },
      "execution_count": null,
      "outputs": [
        {
          "output_type": "execute_result",
          "data": {
            "text/plain": [
              "[<matplotlib.lines.Line2D at 0x7fb3f40bf430>]"
            ]
          },
          "metadata": {},
          "execution_count": 175
        },
        {
          "output_type": "display_data",
          "data": {
            "text/plain": [
              "<Figure size 432x288 with 1 Axes>"
            ],
            "image/png": "[encoded data removed]"
          },
          "metadata": {
            "needs_background": "light"
          }
        }
      ]
    },
    {
      "cell_type": "code",
      "source": [
        "print(\"H0: There is no preference in number of sports played\")\n",
        "print(\"Ha: There is preference in number of sports played\")\n",
        "chi_square_test(obs, exp, 0.05)"
      ],
      "metadata": {
        "colab": {
          "base_uri": "https://localhost:8080/",
          "height": 157
        },
        "id": "fJ_s38zBcIpH",
        "outputId": "29c59a71-b1c9-4cf2-87c6-57411a7a2b64"
      },
      "execution_count": null,
      "outputs": [
        {
          "output_type": "stream",
          "name": "stdout",
          "text": [
            "H0: There is no preference in number of sports played\n",
            "Ha: There is preference in number of sports played\n",
            "alpha= 0.05\n",
            "df= 3\n",
            "Chi-Square= 17.2\n",
            "Critical Value= 7.815\n",
            "\n"
          ]
        },
        {
          "output_type": "execute_result",
          "data": {
            "text/plain": [
              "'The decision is to reject the null hypothesis'"
            ],
            "application/vnd.google.colaboratory.intrinsic+json": {
              "type": "string"
            }
          },
          "metadata": {},
          "execution_count": 203
        }
      ]
    },
    {
      "cell_type": "code",
      "source": [
        "#test independence\n",
        "import numpy as np\n",
        "from scipy.stats import chi2\n",
        "\n",
        "def test_independence(mx, alpha = 0.05):\n",
        "  rowSum = np.sum(mx,axis=1)\n",
        "  colSum = np.sum(mx,axis=0)\n",
        "  n = np.sum(rowSum)\n",
        "\n",
        "  chi_square = 0\n",
        "\n",
        "  for i in range(len(mx)):\n",
        "    for j in range(len(mx[0])):\n",
        "      temp = rowSum[i]*colSum[j]/n\n",
        "      chi_square += ((mx[i][j] - temp)**2/temp)\n",
        "\n",
        "  df = (len(rowSum)-1)*(len(colSum)-1)\n",
        "  cv = chi2.ppf(1-alpha, df-1)\n",
        "  newline = '\\n'\n",
        "\n",
        "  print(f\"Alpha= {alpha}{newline}Degrees of Freedom= {df}{newline}Chi_square= {round(chi_square, 3)}{newline}Critical Value= {round(cv, 3)}{newline}\")\n",
        "\n",
        "  if(chi_square > cv):\n",
        "    return \"The decision is to reject the null hypothesis\"\n",
        "  else:\n",
        "    return \"The decision is to accept the null hypothesis\""
      ],
      "metadata": {
        "id": "sJWcPDM13gdN"
      },
      "execution_count": null,
      "outputs": []
    },
    {
      "cell_type": "code",
      "source": [
        "df1 = df[['Gender', 'Weight after']]\n",
        "m1, m2, m3, f1, f2, f3 = 0, 0, 0, 0, 0, 0\n",
        "for i in df.index:\n",
        "  if(df['Weight after'][i] < 65):\n",
        "    if(df['Gender'][i] == 'M'):\n",
        "      m1 += 1\n",
        "    if(df['Gender'][i] == 'F'):\n",
        "      f1 += 1\n",
        "  elif(df['Weight after'][i] >= 65 and df['Weight after'][i] < 75):\n",
        "    if(df['Gender'][i] == 'M'):\n",
        "      m2 += 1\n",
        "    if(df['Gender'][i] == 'F'):\n",
        "      f2 += 1\n",
        "  else:\n",
        "    if(df['Gender'][i] == 'M'):\n",
        "      m3 += 1\n",
        "    if(df['Gender'][i] == 'F'):\n",
        "      f3 += 1\n",
        "\n",
        "obs = [m1, m2, m3]\n",
        "exp = [f1, f2, f3]\n",
        "print(obs, exp)"
      ],
      "metadata": {
        "colab": {
          "base_uri": "https://localhost:8080/"
        },
        "id": "QqV_Ap3WGxJZ",
        "outputId": "c916fc0d-dda6-44e7-8978-3e422d58e12c"
      },
      "execution_count": null,
      "outputs": [
        {
          "output_type": "stream",
          "name": "stdout",
          "text": [
            "[9, 30, 11] [10, 29, 11]\n"
          ]
        }
      ]
    },
    {
      "cell_type": "markdown",
      "source": [
        "A researcher wants to check if there is any relationship between weight and gender.\n",
        "\n",
        "H0: Weight and gender of an individual is independent.\n",
        "Ha: Weight and gender of an individual is dependent.\n",
        "\n",
        "<table>\n",
        "<tr>\n",
        "<th>Groups</th>\n",
        "<th>Thin</th>\n",
        "<th>Normal</th>\n",
        "<th>Fat</th>\n",
        "<th>Total</th>\n",
        "</tr>\n",
        "<tr>\n",
        "<td>Male</td>\n",
        "<td>9</td>\n",
        "<td>30</td>\n",
        "<td>11</td>\n",
        "<td>50</td>\n",
        "</tr>\n",
        "<tr>\n",
        "<td>Female</td>\n",
        "<td>10</td>\n",
        "<td>29</td>\n",
        "<td>11</td>\n",
        "<td>50</td>\n",
        "</tr>"
      ],
      "metadata": {
        "id": "PG-7rCmdBxZ4"
      }
    },
    {
      "cell_type": "code",
      "source": [
        "matrix = [obs, exp]\n",
        "print(\"H0: Weight of an indvidual is independent of gender of individual\")\n",
        "print(\"Ha: Weight of an indvidual is dependent of gender of individual\")\n",
        "print(test_independence(matrix))"
      ],
      "metadata": {
        "colab": {
          "base_uri": "https://localhost:8080/"
        },
        "id": "IcYUaQW5BFXW",
        "outputId": "49b33f62-965a-4450-a0b4-d555159af2e0"
      },
      "execution_count": null,
      "outputs": [
        {
          "output_type": "stream",
          "name": "stdout",
          "text": [
            "H0: Weight of an indvidual is independent of gender of individual\n",
            "Ha: Weight of an indvidual is dependent of gender of individual\n",
            "Alpha= 0.05\n",
            "Degrees of Freedom= 3\n",
            "Chi_square= 10.308\n",
            "Critical Value= 5.991\n",
            "\n",
            "The decision is to reject the null hypothesis\n"
          ]
        }
      ]
    },
    {
      "cell_type": "code",
      "source": [
        "def test_homogeneity(mx, alpha = 0.05):\n",
        "  rowSum = np.sum(mx,axis=1)\n",
        "  colSum = np.sum(mx,axis=0)\n",
        "  n = np.sum(rowSum)\n",
        "\n",
        "  chi_square = 0\n",
        "\n",
        "  for i in range(len(mx)):\n",
        "    for j in range(len(mx[0])):\n",
        "      temp = rowSum[i]*colSum[j]/n\n",
        "      chi_square += ((mx[i][j] - temp)**2/temp)\n",
        "\n",
        "  df = (len(rowSum)-1)*(len(colSum)-1)\n",
        "  cv = chi2.ppf(1-alpha, df-1)\n",
        "  newline = '\\n'\n",
        "\n",
        "  print(f\"Alpha= {alpha}{newline}Degrees of Freedom= {df}{newline}Chi_square= {round(chi_square, 3)}{newline}Critical Value= {round(cv, 3)}{newline}\")\n",
        "\n",
        "  if(chi_square > cv):\n",
        "    return \"The decision is to reject the null hypothesis\"\n",
        "  else:\n",
        "    return \"The decision is to accept the null hypothesis\""
      ],
      "metadata": {
        "id": "Od2LsFH0UvrV"
      },
      "execution_count": null,
      "outputs": []
    },
    {
      "cell_type": "markdown",
      "source": [
        "The proportion in change of weight of each sportsmen is same for male and female.\n",
        "\n",
        "<table>\n",
        "<tr>\n",
        "<th>Groups</th>\n",
        "<th>x<7</th>\n",
        "<th>7<=x<11</th>\n",
        "<th>x>=12</th>\n",
        "</tr>\n",
        "<tr>\n",
        "<td>Yes</td>\n",
        "<td>12</td>\n",
        "<td>23</td>\n",
        "<td>56</td>\n",
        "</tr>\n",
        "<tr>\n",
        "<td>No</td>\n",
        "<td>88</td>\n",
        "<td>77</td>\n",
        "<td>44</td>\n",
        "</tr>\n"
      ],
      "metadata": {
        "id": "0DdqAynqV2z5"
      }
    },
    {
      "cell_type": "code",
      "source": [
        "print(\"H0: The proportion in change of weight of each sportsmen is equal\")\n",
        "print(\"Ha: The proportion in change of weight of each sportsmen is not equal\")\n",
        "matrix = [[12, 23, 56], [88, 77, 44]]\n",
        "test_homogeneity(matrix)"
      ],
      "metadata": {
        "colab": {
          "base_uri": "https://localhost:8080/",
          "height": 157
        },
        "id": "H8J3FgVBci7x",
        "outputId": "b9dedf15-fcb0-44e4-8b10-0d64c5098668"
      },
      "execution_count": null,
      "outputs": [
        {
          "output_type": "stream",
          "name": "stdout",
          "text": [
            "H0: The proportion in change of weight of each sportsmen is equal\n",
            "Ha: The proportion in change of weight of each sportsmen is not equal\n",
            "Alpha= 0.05\n",
            "Degrees of Freedom= 2\n",
            "Chi_square= 49.624\n",
            "Critical Value= 3.841\n",
            "\n"
          ]
        },
        {
          "output_type": "execute_result",
          "data": {
            "text/plain": [
              "'The decision is to reject the null hypothesis'"
            ],
            "application/vnd.google.colaboratory.intrinsic+json": {
              "type": "string"
            }
          },
          "metadata": {},
          "execution_count": 206
        }
      ]
    },
    {
      "cell_type": "code",
      "source": [
        "from scipy.stats import chi2\n",
        "def two_contingency_test(mx, alpha = 0.05):\n",
        "  a, b, c, d = mx[0][0], mx[0][1], mx[1][0], mx[1][1]\n",
        "  n = a+b+c+d\n",
        "  chi_square = 0\n",
        "  if(a <= 5 or b <= 5 or c <= 5 or d <= 5):\n",
        "    print(\"Yates Method\")\n",
        "    chi_square = n*((abs(a*d - b*c) - n/2)**2)/((a+b)*(a+c)*(b+d)*(c+d))\n",
        "  else:\n",
        "    chi_square = n*((a*d - b*c)**2)/((a+b)*(a+c)*(b+d)*(c+d))\n",
        "\n",
        "\n",
        "  cv = chi2.ppf(1-alpha, 1)\n",
        "  newline = '\\n'\n",
        "\n",
        "  print(f\"alpha= {alpha}{newline}df= 1{newline}Chi-square= {round(chi_square, 3)}{newline}Critical Value= {round(cv, 3)}{newline}\")\n",
        "\n",
        "  if(chi_square > cv):\n",
        "    return \"The decision is to reject the null hypothesis\"\n",
        "  else:\n",
        "    return \"The decision is to accept the null hypothesis\""
      ],
      "metadata": {
        "id": "5CEumjx_BFPO"
      },
      "execution_count": null,
      "outputs": []
    },
    {
      "cell_type": "markdown",
      "source": [
        "<table>\n",
        "<th>Weight Lost</th>\n",
        "<tr>\n",
        "<th>Gender</th>\n",
        "<th>Yes</th>\n",
        "<th>No</th>\n",
        "</tr>\n",
        "<tr>\n",
        "<td>Male</td>\n",
        "<td>12</td>\n",
        "<td>23</td>\n",
        "</tr>\n",
        "<tr>\n",
        "<td>Female</td>\n",
        "<td>88</td>\n",
        "<td>77</td>\n",
        "</tr>"
      ],
      "metadata": {
        "id": "kfUpV0K1aOI0"
      }
    },
    {
      "cell_type": "code",
      "source": [
        "print(\"H0: There is no relationship between Gender and weight lost\")\n",
        "print(\"Ha: There is relationship between Gender and weight lost\")\n",
        "matrix = [[22, 28], [24, 26]]\n",
        "two_contingency_test(matrix)"
      ],
      "metadata": {
        "colab": {
          "base_uri": "https://localhost:8080/",
          "height": 157
        },
        "id": "80VT7-6EYhPJ",
        "outputId": "0336a947-421d-40b8-eb06-f6e0df9b83fc"
      },
      "execution_count": null,
      "outputs": [
        {
          "output_type": "stream",
          "name": "stdout",
          "text": [
            "H0: There is no relationship between Gender and weight lost\n",
            "Ha: There is relationship between Gender and weight lost\n",
            "alpha= 0.05\n",
            "df= 1\n",
            "Chi-square= 0.161\n",
            "Critical Value= 3.841\n",
            "\n"
          ]
        },
        {
          "output_type": "execute_result",
          "data": {
            "text/plain": [
              "'The decision is to accept the null hypothesis'"
            ],
            "application/vnd.google.colaboratory.intrinsic+json": {
              "type": "string"
            }
          },
          "metadata": {},
          "execution_count": 207
        }
      ]
    },
    {
      "cell_type": "markdown",
      "source": [
        "<table>\n",
        "<th>Weight Lost</th>\n",
        "<tr>\n",
        "<th>Gender</th>\n",
        "<th>Yes</th>\n",
        "<th>No</th>\n",
        "</tr>\n",
        "<tr>\n",
        "<td>Male</td>\n",
        "<td>12</td>\n",
        "<td>23</td>\n",
        "</tr>\n",
        "<tr>\n",
        "<td>Female</td>\n",
        "<td>88</td>\n",
        "<td>77</td>\n",
        "</tr>"
      ],
      "metadata": {
        "id": "uSUkpAocbR0x"
      }
    },
    {
      "cell_type": "code",
      "source": [
        "print(\"H0: There is no relationship between Gender and weight lost\")\n",
        "print(\"Ha: There is relationship between Gender and weight lost\")\n",
        "matrix = [[4, 7], [8, 9]]\n",
        "two_contingency_test(matrix, 0.05)"
      ],
      "metadata": {
        "colab": {
          "base_uri": "https://localhost:8080/",
          "height": 174
        },
        "id": "4Rd2B016Zeut",
        "outputId": "3db93fc2-1092-499c-a57f-bd182186d599"
      },
      "execution_count": null,
      "outputs": [
        {
          "output_type": "stream",
          "name": "stdout",
          "text": [
            "H0: There is no relationship between Gender and weight lost\n",
            "Ha: There is relationship between Gender and weight lost\n",
            "Yates Method\n",
            "alpha= 0.05\n",
            "df= 1\n",
            "Chi-square= 0.028\n",
            "Critical Value= 3.841\n",
            "\n"
          ]
        },
        {
          "output_type": "execute_result",
          "data": {
            "text/plain": [
              "'The decision is to accept the null hypothesis'"
            ],
            "application/vnd.google.colaboratory.intrinsic+json": {
              "type": "string"
            }
          },
          "metadata": {},
          "execution_count": 208
        }
      ]
    },
    {
      "cell_type": "markdown",
      "source": [
        "# **Unit 5**"
      ],
      "metadata": {
        "id": "L1a4GayTkBAE"
      }
    },
    {
      "cell_type": "code",
      "source": [
        "level_of_significance = {'80': 1.28, '90': 1.64, '95': 1.96, '98': 2.32, '99': 2.57}\n",
        "power = {'0.80': 0.842, '0.90': 1.282}\n",
        "\n",
        "alpha = 0.01\n",
        "beta = 0.20\n",
        "\n",
        "def single_mean(alpha):\n",
        "  z_tab = scipy.stats.norm.ppf(1-alpha)\n",
        "  s = 2.5\n",
        "  d = 0.3\n",
        "  n = ((z_tab * s) / d) ** 2\n",
        "  print(f\"\\n> Sample size for one sample single mean is {round(n)}.\")\n",
        "\n",
        "\n",
        "def single_proportion(alpha):\n",
        "  z_tab = scipy.stats.norm.ppf(1-alpha)\n",
        "  p = 0.70\n",
        "  d = 0.25\n",
        "  n = ((z_tab** 2) * p * (1 - p)) / (d ** 2)\n",
        "  print(f\"\\n> Sample size for one sample single proportion is {round(n)}.\")\n",
        "\n",
        "\n",
        "def two_means(alpha, beta):\n",
        "  za = scipy.stats.norm.ppf(1-alpha)\n",
        "  zb = power[beta]\n",
        "  sd = 3.5\n",
        "  d = 0.4\n",
        "  N = 4 * (sd ** 2) * ((za + zb) ** 2) / (d ** 2)\n",
        "  print(f\"\\n> Sample size for two sample two means is {round(round(N) / 2)} per group.\")\n",
        "\n",
        "\n",
        "def two_proportions(alpha, beta):\n",
        "  za = scipy.stats.norm.ppf(1-alpha)\n",
        "  zb = power[beta]\n",
        "  p1 = 0.65\n",
        "  p2 = 0.72\n",
        "  P = (p1 + p2) / 2\n",
        "  d = p1 - p2\n",
        "  N = 4 * (za + zb) ** 2 * (P * (1 - P)) / (d ** 2)\n",
        "  print(f\"\\n> Sample size for two sample two proportions is {round(round(N) / 2)} per group.\")\n"
      ],
      "metadata": {
        "id": "zEUPV28w7s5n"
      },
      "execution_count": null,
      "outputs": []
    },
    {
      "cell_type": "code",
      "source": [
        "single_mean(0.05)"
      ],
      "metadata": {
        "id": "kl0oYVjfOFhr",
        "colab": {
          "base_uri": "https://localhost:8080/"
        },
        "outputId": "0b1744e3-3232-4c4b-ad7e-9b0a0f2fc6c7"
      },
      "execution_count": null,
      "outputs": [
        {
          "output_type": "stream",
          "name": "stdout",
          "text": [
            "\n",
            "> Sample size for one sample single mean is 188.\n"
          ]
        }
      ]
    },
    {
      "cell_type": "code",
      "source": [
        "two_means(0.10,'0.80')"
      ],
      "metadata": {
        "id": "DbJrSNkNONip",
        "colab": {
          "base_uri": "https://localhost:8080/"
        },
        "outputId": "2c6ae113-6482-4f73-c89f-1e38eaef0270"
      },
      "execution_count": null,
      "outputs": [
        {
          "output_type": "stream",
          "name": "stdout",
          "text": [
            "\n",
            "> Sample size for two sample two means is 690 per group.\n"
          ]
        }
      ]
    },
    {
      "cell_type": "code",
      "source": [
        "single_proportion(0.01)"
      ],
      "metadata": {
        "id": "QR7ZCIzdPxCA",
        "colab": {
          "base_uri": "https://localhost:8080/"
        },
        "outputId": "1e419c17-bf2c-4b4e-faed-91a34010ac47"
      },
      "execution_count": null,
      "outputs": [
        {
          "output_type": "stream",
          "name": "stdout",
          "text": [
            "\n",
            "> Sample size for one sample single proportion is 18.\n"
          ]
        }
      ]
    },
    {
      "cell_type": "code",
      "source": [
        "two_proportions(0.10,'0.90')"
      ],
      "metadata": {
        "id": "jo9uBZw4RDZU",
        "colab": {
          "base_uri": "https://localhost:8080/"
        },
        "outputId": "d5baa34a-8af1-4d92-8943-dba0e2ffc65b"
      },
      "execution_count": null,
      "outputs": [
        {
          "output_type": "stream",
          "name": "stdout",
          "text": [
            "\n",
            "> Sample size for two sample two proportions is 579 per group.\n"
          ]
        }
      ]
    },
    {
      "cell_type": "code",
      "source": [],
      "metadata": {
        "id": "XMtg3FdNmEf7"
      },
      "execution_count": null,
      "outputs": []
    }
  ]
}